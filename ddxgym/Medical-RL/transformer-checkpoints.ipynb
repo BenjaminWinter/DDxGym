{
 "cells": [
  {
   "cell_type": "code",
   "execution_count": 1,
   "id": "ce4f49cb",
   "metadata": {},
   "outputs": [],
   "source": [
    "from collections import defaultdict\n",
    "\n",
    "import torch\n",
    "import os\n",
    "import numpy as np\n",
    "import matplotlib.pyplot as plt\n",
    "from matplotlib.pyplot import figure\n",
    "import pandas as pd\n",
    "import pickle\n",
    "from ray.air import Checkpoint\n",
    "from ray.rllib.models import ModelCatalog\n",
    "import ray\n",
    "from model import IMPALAFruitfly\n",
    "import pickle5 as pickle\n",
    "from wordcloud import WordCloud\n",
    "from transformers import AutoTokenizer"
   ]
  },
  {
   "cell_type": "code",
   "execution_count": 2,
   "id": "5a21ca6a",
   "metadata": {},
   "outputs": [],
   "source": [
    "checkpoint_base_url = '/root/ray_results/bert-base-uncased-1/IMPALA_gym_medical:doctorsim-v0_1f4dc_00000_0_2022-09-06_07-40-04'"
   ]
  },
  {
   "cell_type": "code",
   "execution_count": 3,
   "id": "97918c4b",
   "metadata": {},
   "outputs": [
    {
     "data": {
      "text/plain": [
       "(5, 130)"
      ]
     },
     "execution_count": 3,
     "metadata": {},
     "output_type": "execute_result"
    }
   ],
   "source": [
    "cps = list(map(lambda x: int(x.split('_')[-1]), [e for e in os.listdir(checkpoint_base_url) if e.find('checkpoint')!=-1]))\n",
    "first, last = min(cps), max(cps)\n",
    "first, last"
   ]
  },
  {
   "cell_type": "code",
   "execution_count": 4,
   "id": "c2a0afd3",
   "metadata": {},
   "outputs": [],
   "source": [
    "cp_number = last\n",
    "cp_path = checkpoint_base_url + f'/checkpoint_{cp_number:06}/checkpoint-{cp_number}'\n",
    "with open(cp_path, 'rb') as f:\n",
    "    cp = pickle.load(f)\n",
    "worker_first = pickle.loads(cp['worker'])\n",
    "vnw25 = worker_first['state']['default_policy']['weights']['value_network.weight']\n",
    "anw25 = worker_first['state']['default_policy']['weights']['action_outputs.weight']\n",
    "\n",
    "cp_number = first\n",
    "cp_path = checkpoint_base_url + f'/checkpoint_{cp_number:06}/checkpoint-{cp_number}'\n",
    "with open(cp_path, 'rb') as f:\n",
    "    cp = pickle.load(f)\n",
    "worker_last = pickle.loads(cp['worker'])\n",
    "vnw5 = worker_last['state']['default_policy']['weights']['value_network.weight']\n",
    "anw5 = worker_last['state']['default_policy']['weights']['action_outputs.weight']"
   ]
  },
  {
   "cell_type": "code",
   "execution_count": 5,
   "id": "b2233b7c",
   "metadata": {},
   "outputs": [],
   "source": [
    "pooler_first = torch.tensor(worker_first['state']['default_policy']['weights']['encoder.pooler.dense.weight'])\n",
    "pooler_last = torch.tensor(worker_last['state']['default_policy']['weights']['encoder.pooler.dense.weight'])"
   ]
  },
  {
   "cell_type": "code",
   "execution_count": 6,
   "id": "3324b344",
   "metadata": {},
   "outputs": [
    {
     "data": {
      "text/plain": [
       "tensor(0.)"
      ]
     },
     "execution_count": 6,
     "metadata": {},
     "output_type": "execute_result"
    }
   ],
   "source": [
    "(pooler_last-pooler_first).sum()"
   ]
  },
  {
   "cell_type": "code",
   "execution_count": 9,
   "id": "17defb52",
   "metadata": {},
   "outputs": [],
   "source": [
    "value8first = worker_first['state']['default_policy']['weights']['encoder.encoder.layer.8.attention.self.value.weight']\n",
    "value8last = worker_last['state']['default_policy']['weights']['encoder.encoder.layer.8.attention.self.value.weight']"
   ]
  },
  {
   "cell_type": "code",
   "execution_count": 10,
   "id": "2f22c932",
   "metadata": {},
   "outputs": [
    {
     "data": {
      "text/plain": [
       "-0.0785897"
      ]
     },
     "execution_count": 10,
     "metadata": {},
     "output_type": "execute_result"
    }
   ],
   "source": [
    "(value8first-value8last).sum()"
   ]
  }
 ],
 "metadata": {
  "kernelspec": {
   "display_name": "Python 3 (ipykernel)",
   "language": "python",
   "name": "python3"
  },
  "language_info": {
   "codemirror_mode": {
    "name": "ipython",
    "version": 3
   },
   "file_extension": ".py",
   "mimetype": "text/x-python",
   "name": "python",
   "nbconvert_exporter": "python",
   "pygments_lexer": "ipython3",
   "version": "3.7.11"
  }
 },
 "nbformat": 4,
 "nbformat_minor": 5
}
